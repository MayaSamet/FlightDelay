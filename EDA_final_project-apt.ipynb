{
 "cells": [
  {
   "cell_type": "markdown",
   "metadata": {},
   "source": [
    "# Final Project Title"
   ]
  },
  {
   "cell_type": "markdown",
   "metadata": {},
   "source": [
    "\n",
    "# Column Descriptions! \n",
    "\n",
    "YEAR Year of the Flight Trip \n",
    "\n",
    "MONTH Month of the Flight Trip\n",
    "\n",
    "DAY Day of the Flight Trip \n",
    "\n",
    "DAY_OF_WEEK Day of week of the Flight Trip\n",
    "\n",
    "AIRLINE Airline Identifier\n",
    "\n",
    "FLIGHT_NUMBER Flight Identifier\n",
    "\n",
    "TAIL_NUMBER Aircraft Identifier\n",
    "\n",
    "ORIGIN_AIRPORT Starting Airport\n",
    "\n",
    "DESTINATION_AIRPORT  Destination Airport\n",
    "\n",
    "SCHEDULED_DEPARTURE  Planned Departure Time\n",
    "\n",
    "DEPARTURE_TIMEWHEEL_OFF - TAXI_OUT\n",
    "\n",
    "DEPARTURE_DELAY  Total Delay on Departure\n",
    "\n",
    "TAXI_OUT The time duration elapsed between departure from the origin airport gate and wheels off\n",
    "\n",
    "WHEELS_OFFThe time point that the aircraft's wheels leave the ground\n",
    "\n",
    "SCHEDULED_TIMEPlanned time amount needed for the flight trip\n",
    "\n",
    "ELAPSED_TIMEAIR_TIME+TAXI_IN+TAXI_OUT\n",
    "\n",
    "AIR_TIMEThe time duration between wheels_off and wheels_on time\n",
    "\n",
    "DISTANCEDistance between two airports\n",
    "\n",
    "WHEELS_ON The time point that the aircraft's wheels touch on the ground\n",
    "\n",
    "TAXI_IN The time duration elapsed between wheels-on and gate arrival at the destination airport\n",
    "\n",
    "SCHEDULED_ARRIVAL Planned arrival time\n",
    "\n",
    "ARRIVAL_TIMEWHEELS_ON+TAXI_IN\n",
    "\n",
    "ARRIVAL_DELAY \n",
    "\n",
    "ARRIVAL_TIME-SCHEDULED_ARRIVAL\n",
    "\n",
    "DIVERTED Aircraft landed on airport that out of schedule\n",
    "\n",
    "CANCELLED Flight Cancelled (1 = cancelled)\n",
    "\n",
    "CANCELLATION_REASON Reason for Cancellation of flight: A - Airline/Carrier; B - Weather; C - National Air System; D - Security\n",
    "\n",
    "AIR_SYSTEM_DELAY Delay caused by air system\n",
    "\n",
    "SECURITY_DELAY Delay caused by security\n",
    "\n",
    "AIRLINE_DELAY Delay caused by the airline\n",
    "\n",
    "LATE_AIRCRAFT_DELAY Delay caused by aircraft\n",
    "\n",
    "WEATHER_DELAY Delay caused by weather"
   ]
  },
  {
   "cell_type": "code",
   "execution_count": 1,
   "metadata": {},
   "outputs": [],
   "source": [
    "#read in file as dataframe \n",
    "# import pyspark modules\n",
    "from pyspark import SparkContext\n",
    "from pyspark.sql import SQLContext\n",
    "from pyspark.sql import Row\n",
    "from pyspark.sql.types import *       # for datatype conversion\n",
    "from pyspark.sql.functions import *   # for col() function\n",
    "from pyspark.mllib.linalg import DenseVector\n",
    "from pyspark.ml.feature import StandardScaler\n",
    "from pyspark.ml.regression import LinearRegression\n",
    "import pandas as pd\n",
    "import os\n",
    "import pyspark.sql.types as typ\n",
    "import pyspark.sql.functions as F\n"
   ]
  },
  {
   "cell_type": "code",
   "execution_count": 2,
   "metadata": {},
   "outputs": [],
   "source": [
    "from pyspark.sql import SparkSession \n",
    "spark = SparkSession \\\n",
    "    .builder \\\n",
    "    .master(\"local\") \\\n",
    "    .appName(\"app\") \\\n",
    "    .config(\"spark.executor.memory\", '2g') \\\n",
    "    .config('spark.executor.cores', '2') \\\n",
    "    .config('spark.cores.max', '2') \\\n",
    "    .config(\"spark.driver.memory\",'4g') \\\n",
    "    .getOrCreate()\n",
    "\n",
    "sc = SparkContext.getOrCreate()\n",
    "sqlCtx = SQLContext(sc)"
   ]
  },
  {
   "cell_type": "markdown",
   "metadata": {},
   "source": [
    "### Start of APT edit"
   ]
  },
  {
   "cell_type": "code",
   "execution_count": 3,
   "metadata": {},
   "outputs": [],
   "source": [
    "path_to_data = os.path.join(\"/home/jovyan/FlightDelay/flights.csv\")"
   ]
  },
  {
   "cell_type": "markdown",
   "metadata": {},
   "source": [
    "read into rdd"
   ]
  },
  {
   "cell_type": "code",
   "execution_count": 4,
   "metadata": {},
   "outputs": [],
   "source": [
    "delay_rdd = sc.textFile(path_to_data)"
   ]
  },
  {
   "cell_type": "code",
   "execution_count": 5,
   "metadata": {},
   "outputs": [],
   "source": [
    "#delay_rdd.take(3)"
   ]
  },
  {
   "cell_type": "markdown",
   "metadata": {},
   "source": [
    "read into spark dataframe"
   ]
  },
  {
   "cell_type": "code",
   "execution_count": 6,
   "metadata": {},
   "outputs": [],
   "source": [
    "delay_df = spark.read.format(\"csv\").option(\"header\", \"true\").option(\"inferschema\",\"true\").load(path_to_data)"
   ]
  },
  {
   "cell_type": "code",
   "execution_count": 7,
   "metadata": {},
   "outputs": [
    {
     "name": "stdout",
     "output_type": "stream",
     "text": [
      "+----+-----+---+-----------+-------+-------------+-----------+--------------+-------------------+-------------------+--------------+---------------+--------+----------+--------------+------------+--------+--------+---------+-------+-----------------+------------+-------------+--------+---------+-------------------+----------------+--------------+-------------+-------------------+-------------+\n",
      "|YEAR|MONTH|DAY|DAY_OF_WEEK|AIRLINE|FLIGHT_NUMBER|TAIL_NUMBER|ORIGIN_AIRPORT|DESTINATION_AIRPORT|SCHEDULED_DEPARTURE|DEPARTURE_TIME|DEPARTURE_DELAY|TAXI_OUT|WHEELS_OFF|SCHEDULED_TIME|ELAPSED_TIME|AIR_TIME|DISTANCE|WHEELS_ON|TAXI_IN|SCHEDULED_ARRIVAL|ARRIVAL_TIME|ARRIVAL_DELAY|DIVERTED|CANCELLED|CANCELLATION_REASON|AIR_SYSTEM_DELAY|SECURITY_DELAY|AIRLINE_DELAY|LATE_AIRCRAFT_DELAY|WEATHER_DELAY|\n",
      "+----+-----+---+-----------+-------+-------------+-----------+--------------+-------------------+-------------------+--------------+---------------+--------+----------+--------------+------------+--------+--------+---------+-------+-----------------+------------+-------------+--------+---------+-------------------+----------------+--------------+-------------+-------------------+-------------+\n",
      "|2015|    1|  1|          4|     AS|           98|     N407AS|           ANC|                SEA|                  5|          2354|            -11|      21|        15|           205|         194|     169|    1448|      404|      4|              430|         408|          -22|       0|        0|               null|            null|          null|         null|               null|         null|\n",
      "|2015|    1|  1|          4|     AA|         2336|     N3KUAA|           LAX|                PBI|                 10|             2|             -8|      12|        14|           280|         279|     263|    2330|      737|      4|              750|         741|           -9|       0|        0|               null|            null|          null|         null|               null|         null|\n",
      "|2015|    1|  1|          4|     US|          840|     N171US|           SFO|                CLT|                 20|            18|             -2|      16|        34|           286|         293|     266|    2296|      800|     11|              806|         811|            5|       0|        0|               null|            null|          null|         null|               null|         null|\n",
      "+----+-----+---+-----------+-------+-------------+-----------+--------------+-------------------+-------------------+--------------+---------------+--------+----------+--------------+------------+--------+--------+---------+-------+-----------------+------------+-------------+--------+---------+-------------------+----------------+--------------+-------------+-------------------+-------------+\n",
      "only showing top 3 rows\n",
      "\n"
     ]
    }
   ],
   "source": [
    "delay_df.show(3)"
   ]
  },
  {
   "cell_type": "code",
   "execution_count": 8,
   "metadata": {
    "scrolled": true
   },
   "outputs": [
    {
     "name": "stdout",
     "output_type": "stream",
     "text": [
      "root\n",
      " |-- YEAR: integer (nullable = true)\n",
      " |-- MONTH: integer (nullable = true)\n",
      " |-- DAY: integer (nullable = true)\n",
      " |-- DAY_OF_WEEK: integer (nullable = true)\n",
      " |-- AIRLINE: string (nullable = true)\n",
      " |-- FLIGHT_NUMBER: integer (nullable = true)\n",
      " |-- TAIL_NUMBER: string (nullable = true)\n",
      " |-- ORIGIN_AIRPORT: string (nullable = true)\n",
      " |-- DESTINATION_AIRPORT: string (nullable = true)\n",
      " |-- SCHEDULED_DEPARTURE: integer (nullable = true)\n",
      " |-- DEPARTURE_TIME: integer (nullable = true)\n",
      " |-- DEPARTURE_DELAY: integer (nullable = true)\n",
      " |-- TAXI_OUT: integer (nullable = true)\n",
      " |-- WHEELS_OFF: integer (nullable = true)\n",
      " |-- SCHEDULED_TIME: integer (nullable = true)\n",
      " |-- ELAPSED_TIME: integer (nullable = true)\n",
      " |-- AIR_TIME: integer (nullable = true)\n",
      " |-- DISTANCE: integer (nullable = true)\n",
      " |-- WHEELS_ON: integer (nullable = true)\n",
      " |-- TAXI_IN: integer (nullable = true)\n",
      " |-- SCHEDULED_ARRIVAL: integer (nullable = true)\n",
      " |-- ARRIVAL_TIME: integer (nullable = true)\n",
      " |-- ARRIVAL_DELAY: integer (nullable = true)\n",
      " |-- DIVERTED: integer (nullable = true)\n",
      " |-- CANCELLED: integer (nullable = true)\n",
      " |-- CANCELLATION_REASON: string (nullable = true)\n",
      " |-- AIR_SYSTEM_DELAY: integer (nullable = true)\n",
      " |-- SECURITY_DELAY: integer (nullable = true)\n",
      " |-- AIRLINE_DELAY: integer (nullable = true)\n",
      " |-- LATE_AIRCRAFT_DELAY: integer (nullable = true)\n",
      " |-- WEATHER_DELAY: integer (nullable = true)\n",
      "\n"
     ]
    }
   ],
   "source": [
    "delay_df.printSchema()"
   ]
  },
  {
   "cell_type": "code",
   "execution_count": 9,
   "metadata": {},
   "outputs": [
    {
     "data": {
      "text/plain": [
       "5287214"
      ]
     },
     "execution_count": 9,
     "metadata": {},
     "output_type": "execute_result"
    }
   ],
   "source": [
    "delay_df.count()"
   ]
  },
  {
   "cell_type": "code",
   "execution_count": 10,
   "metadata": {},
   "outputs": [
    {
     "name": "stdout",
     "output_type": "stream",
     "text": [
      "+-------+------------------+------------------+\n",
      "|summary|   DEPARTURE_DELAY|     ARRIVAL_DELAY|\n",
      "+-------+------------------+------------------+\n",
      "|  count|           5208890|           5191895|\n",
      "|   mean|  9.17736811489588| 4.284605717180336|\n",
      "| stddev|36.605655917829274|38.808542303886945|\n",
      "|    min|               -68|               -87|\n",
      "|    max|              1988|              1971|\n",
      "+-------+------------------+------------------+\n",
      "\n"
     ]
    }
   ],
   "source": [
    "delay_df.describe(['DEPARTURE_DELAY', 'ARRIVAL_DELAY']).show()"
   ]
  },
  {
   "cell_type": "markdown",
   "metadata": {},
   "source": [
    "# Check for Duplicates"
   ]
  },
  {
   "cell_type": "code",
   "execution_count": 11,
   "metadata": {},
   "outputs": [
    {
     "name": "stdout",
     "output_type": "stream",
     "text": [
      "rows = 5287214\n"
     ]
    }
   ],
   "source": [
    "print('rows = {}'.format(delay_df.count()))"
   ]
  },
  {
   "cell_type": "code",
   "execution_count": 12,
   "metadata": {},
   "outputs": [
    {
     "name": "stdout",
     "output_type": "stream",
     "text": [
      "rows = 5287214\n"
     ]
    }
   ],
   "source": [
    "print('rows = {}'.format(delay_df.distinct().count()))"
   ]
  },
  {
   "cell_type": "markdown",
   "metadata": {},
   "source": [
    "Appears there are no duplicated entries"
   ]
  },
  {
   "cell_type": "markdown",
   "metadata": {},
   "source": [
    "# Check for Missing Values "
   ]
  },
  {
   "cell_type": "code",
   "execution_count": 13,
   "metadata": {},
   "outputs": [
    {
     "name": "stdout",
     "output_type": "stream",
     "text": [
      "+------------+-------------+-----------+-------------------+---------------+---------------------+--------------------+----------------------+---------------------------+---------------------------+----------------------+-----------------------+-------------------+-------------------+----------------------+--------------------+--------------------+--------------------+--------------------+--------------------+-------------------------+--------------------+---------------------+--------------------+--------------------+---------------------------+------------------------+----------------------+---------------------+---------------------------+---------------------+\n",
      "|YEAR_missing|MONTH_missing|DAY_missing|DAY_OF_WEEK_missing|AIRLINE_missing|FLIGHT_NUMBER_missing| TAIL_NUMBER_missing|ORIGIN_AIRPORT_missing|DESTINATION_AIRPORT_missing|SCHEDULED_DEPARTURE_missing|DEPARTURE_TIME_missing|DEPARTURE_DELAY_missing|   TAXI_OUT_missing| WHEELS_OFF_missing|SCHEDULED_TIME_missing|ELAPSED_TIME_missing|    AIR_TIME_missing|    DISTANCE_missing|   WHEELS_ON_missing|     TAXI_IN_missing|SCHEDULED_ARRIVAL_missing|ARRIVAL_TIME_missing|ARRIVAL_DELAY_missing|    DIVERTED_missing|   CANCELLED_missing|CANCELLATION_REASON_missing|AIR_SYSTEM_DELAY_missing|SECURITY_DELAY_missing|AIRLINE_DELAY_missing|LATE_AIRCRAFT_DELAY_missing|WEATHER_DELAY_missing|\n",
      "+------------+-------------+-----------+-------------------+---------------+---------------------+--------------------+----------------------+---------------------------+---------------------------+----------------------+-----------------------+-------------------+-------------------+----------------------+--------------------+--------------------+--------------------+--------------------+--------------------+-------------------------+--------------------+---------------------+--------------------+--------------------+---------------------------+------------------------+----------------------+---------------------+---------------------------+---------------------+\n",
      "|         0.0|          0.0|        0.0|                0.0|            0.0|                  0.0|0.002560895019569...|  1.891355257965798...|       1.891355257965798...|       1.891355257965798...|  0.014813850924135119|   0.014813850924135119|0.01530673810441563|0.01530673810441563|  1.323948680687081...|0.018028209185404598|0.018028209185404598|1.891355257965798...|0.015864498770051694|0.015864498770051694|     1.891355257965798...|0.015864498770051694| 0.018028209185404598|1.891355257965798...|1.891355257965798...|         0.9845565169104182|      0.8188295385811886|    0.8188295385811886|   0.8188295385811886|         0.8188295385811886|   0.8188295385811886|\n",
      "+------------+-------------+-----------+-------------------+---------------+---------------------+--------------------+----------------------+---------------------------+---------------------------+----------------------+-----------------------+-------------------+-------------------+----------------------+--------------------+--------------------+--------------------+--------------------+--------------------+-------------------------+--------------------+---------------------+--------------------+--------------------+---------------------------+------------------------+----------------------+---------------------+---------------------------+---------------------+\n",
      "\n"
     ]
    }
   ],
   "source": [
    "# calculates percent of missing values in ecah column! \n",
    "missing = delay_df.agg(*[\n",
    "    (1-F.count(c) / F.count('*')).alias(c + '_missing')\n",
    "    for c in delay_df.columns\n",
    "]).show()"
   ]
  },
  {
   "cell_type": "markdown",
   "metadata": {},
   "source": [
    "Last 6 coluns appear to have very large percentage of missing values: \n",
    "\n",
    "CANCELLATION_REASON_missing, AIR_SYSTEM_DELAY_missing, SECURITY_DELAY_missing, \n",
    "AIRLINE_DELAY_missing, LATE_AIRCRAFT_DELAY_missing, WEATHER_DELAY_missing "
   ]
  },
  {
   "cell_type": "markdown",
   "metadata": {},
   "source": [
    "Should I drop all of these columns? "
   ]
  },
  {
   "cell_type": "code",
   "execution_count": 14,
   "metadata": {
    "scrolled": false
   },
   "outputs": [
    {
     "name": "stdout",
     "output_type": "stream",
     "text": [
      "+-------------+--------------+----------------+-------------+-------------------+-------------------+\n",
      "|WEATHER_DELAY|SECURITY_DELAY|AIR_SYSTEM_DELAY|AIRLINE_DELAY|LATE_AIRCRAFT_DELAY|CANCELLATION_REASON|\n",
      "+-------------+--------------+----------------+-------------+-------------------+-------------------+\n",
      "|         null|          null|            null|         null|               null|               null|\n",
      "|         null|          null|            null|         null|               null|               null|\n",
      "|         null|          null|            null|         null|               null|               null|\n",
      "|         null|          null|            null|         null|               null|               null|\n",
      "|         null|          null|            null|         null|               null|               null|\n",
      "+-------------+--------------+----------------+-------------+-------------------+-------------------+\n",
      "only showing top 5 rows\n",
      "\n"
     ]
    }
   ],
   "source": [
    "delay_df.select('WEATHER_DELAY', 'SECURITY_DELAY', 'AIR_SYSTEM_DELAY', \n",
    "                'AIRLINE_DELAY', 'LATE_AIRCRAFT_DELAY', 'CANCELLATION_REASON').show(5)"
   ]
  },
  {
   "cell_type": "markdown",
   "metadata": {},
   "source": [
    "# Drop columns "
   ]
  },
  {
   "cell_type": "code",
   "execution_count": 15,
   "metadata": {},
   "outputs": [],
   "source": [
    "cols_to_drop = ['WEATHER_DELAY', 'SECURITY_DELAY', 'AIR_SYSTEM_DELAY','AIRLINE_DELAY', \n",
    "                'LATE_AIRCRAFT_DELAY', 'CANCELLATION_REASON'] \n",
    "\n",
    "delay_df = delay_df.drop(*cols_to_drop)"
   ]
  },
  {
   "cell_type": "code",
   "execution_count": 16,
   "metadata": {},
   "outputs": [],
   "source": [
    "# Drop records where atleast 3 columns have NULL values \n",
    "\n",
    "delay_df = delay_df.dropna(thresh=3)"
   ]
  },
  {
   "cell_type": "markdown",
   "metadata": {},
   "source": [
    "Doesn't change the count of the DF, so no rows with atleast 3 missing columns "
   ]
  },
  {
   "cell_type": "code",
   "execution_count": 17,
   "metadata": {},
   "outputs": [
    {
     "data": {
      "text/plain": [
       "5287214"
      ]
     },
     "execution_count": 17,
     "metadata": {},
     "output_type": "execute_result"
    }
   ],
   "source": [
    "delay_df.count()"
   ]
  },
  {
   "cell_type": "markdown",
   "metadata": {},
   "source": [
    "# Impute Missing values "
   ]
  },
  {
   "cell_type": "code",
   "execution_count": null,
   "metadata": {},
   "outputs": [],
   "source": [
    "drop_cols = cols_to_exclude = ['YEAR', 'MONTH', 'DAY', 'DAY_OF_WEEK',\n",
    "                   'TAIL_NUMBER', 'ORIGIN_AIRPORT', 'DIVERTED', \n",
    "                   'CANCELLED', 'DESTINATION_AIRPORT', 'AIRLINE', \n",
    "                   'FLIGHT_NUMBER', 'TAIL_NUMBER']\n",
    "\n",
    "\n",
    "df_impute = delay_df.drop(*drop_cols)\n",
    "means = df_impute.agg(*[F.mean(c).alias(c) \\\n",
    "                                for c in df_impute.columns]) \\\n",
    "                                .toPandas().to_dict('records')[0]"
   ]
  },
  {
   "cell_type": "markdown",
   "metadata": {},
   "source": [
    "# Outliers "
   ]
  },
  {
   "cell_type": "code",
   "execution_count": null,
   "metadata": {},
   "outputs": [],
   "source": [
    "cols_to_exclude = ['YEAR', 'MONTH', 'DAY', 'DAY_OF_WEEK',\n",
    "                   'TAIL_NUMBER', 'ORIGIN_AIRPORT', 'DIVERTED', \n",
    "                   'CANCELLED', 'DESTINATION_AIRPORT', 'AIRLINE', \n",
    "                   'FLIGHT_NUMBER', 'TAIL_NUMBER'] \n",
    "\n",
    "df_for_outlier_calc = delay_df.drop(*cols_to_exclude)\n",
    "\n",
    "cols = [c for c in df_for_outlier_calc.columns]\n",
    "bounds = {}"
   ]
  },
  {
   "cell_type": "code",
   "execution_count": null,
   "metadata": {},
   "outputs": [],
   "source": [
    "for col in cols:\n",
    "    quantiles = df_for_outlier_calc.approxQuantile(col, [0.25, 0.75], 0.05)\n",
    "    IQR = quantiles[1] - quantiles[0]\n",
    "    \n",
    "    bounds[col] = [\n",
    "        quantiles[0] - 1.5 * IQR,\n",
    "        quantiles[1] + 1.5 * IQR\n",
    "    ]"
   ]
  },
  {
   "cell_type": "code",
   "execution_count": 21,
   "metadata": {},
   "outputs": [
    {
     "ename": "AnalysisException",
     "evalue": "\"cannot resolve '`FLIGHT_NUMBER`' given input columns: [SCHEDULED_DEPARTURE, SCHEDULED_ARRIVAL, DEPARTURE_TIME, DEPARTURE_DELAY, TAXI_IN, DISTANCE, ARRIVAL_DELAY, ARRIVAL_TIME, TAXI_OUT, SCHEDULED_TIME, ELAPSED_TIME, WHEELS_ON, AIR_TIME, WHEELS_OFF];;\\n'Project ['FLIGHT_NUMBER, ((cast(SCHEDULED_DEPARTURE#19 as double) < -592.5) || (cast(SCHEDULED_DEPARTURE#19 as double) > 3267.5)) AS SCHEDULED_DEPARTURE_outlier#1634, ((cast(DEPARTURE_TIME#20 as double) < 35.5) || (cast(DEPARTURE_TIME#20 as double) > 2751.5)) AS DEPARTURE_TIME_outlier#1635, ((cast(DEPARTURE_DELAY#21 as double) < -25.0) || (cast(DEPARTURE_DELAY#21 as double) > 31.0)) AS DEPARTURE_DELAY_outlier#1636, ((cast(TAXI_OUT#22 as double) < -5.5) || (cast(TAXI_OUT#22 as double) > 38.5)) AS TAXI_OUT_outlier#1637, ((cast(WHEELS_OFF#23 as double) < -78.5) || (cast(WHEELS_OFF#23 as double) > 2845.5)) AS WHEELS_OFF_outlier#1638, ((cast(SCHEDULED_TIME#24 as double) < -15.0) || (cast(SCHEDULED_TIME#24 as double) > 281.0)) AS SCHEDULED_TIME_outlier#1639, ((cast(ELAPSED_TIME#25 as double) < -57.0) || (cast(ELAPSED_TIME#25 as double) > 319.0)) AS ELAPSED_TIME_outlier#1640, ((cast(AIR_TIME#26 as double) < -56.0) || (cast(AIR_TIME#26 as double) > 280.0)) AS AIR_TIME_outlier#1641, ((cast(DISTANCE#27 as double) < -650.5) || (cast(DISTANCE#27 as double) > 2281.5)) AS DISTANCE_outlier#1642, ((cast(WHEELS_ON#28 as double) < -201.0) || (cast(WHEELS_ON#28 as double) > 3327.0)) AS WHEELS_ON_outlier#1643, ((cast(TAXI_IN#29 as double) < -1.0) || (cast(TAXI_IN#29 as double) > 15.0)) AS TAXI_IN_outlier#1644, ((cast(SCHEDULED_ARRIVAL#30 as double) < 371.5) || (cast(SCHEDULED_ARRIVAL#30 as double) > 2887.5)) AS SCHEDULED_ARRIVAL_outlier#1645, ((cast(ARRIVAL_TIME#31 as double) < -201.0) || (cast(ARRIVAL_TIME#31 as double) > 3335.0)) AS ARRIVAL_TIME_outlier#1646, ((cast(ARRIVAL_DELAY#32 as double) < -42.0) || (cast(ARRIVAL_DELAY#32 as double) > 38.0)) AS ARRIVAL_DELAY_outlier#1647]\\n+- AnalysisBarrier\\n      +- Project [SCHEDULED_DEPARTURE#19, DEPARTURE_TIME#20, DEPARTURE_DELAY#21, TAXI_OUT#22, WHEELS_OFF#23, SCHEDULED_TIME#24, ELAPSED_TIME#25, AIR_TIME#26, DISTANCE#27, WHEELS_ON#28, TAXI_IN#29, SCHEDULED_ARRIVAL#30, ARRIVAL_TIME#31, ARRIVAL_DELAY#32]\\n         +- Filter AtLeastNNulls(n, YEAR#10,MONTH#11,DAY#12,DAY_OF_WEEK#13,AIRLINE#14,FLIGHT_NUMBER#15,TAIL_NUMBER#16,ORIGIN_AIRPORT#17,DESTINATION_AIRPORT#18,SCHEDULED_DEPARTURE#19,DEPARTURE_TIME#20,DEPARTURE_DELAY#21,TAXI_OUT#22,WHEELS_OFF#23,SCHEDULED_TIME#24,ELAPSED_TIME#25,AIR_TIME#26,DISTANCE#27,WHEELS_ON#28,TAXI_IN#29,SCHEDULED_ARRIVAL#30,ARRIVAL_TIME#31,ARRIVAL_DELAY#32,DIVERTED#33,CANCELLED#34)\\n            +- Project [YEAR#10, MONTH#11, DAY#12, DAY_OF_WEEK#13, AIRLINE#14, FLIGHT_NUMBER#15, TAIL_NUMBER#16, ORIGIN_AIRPORT#17, DESTINATION_AIRPORT#18, SCHEDULED_DEPARTURE#19, DEPARTURE_TIME#20, DEPARTURE_DELAY#21, TAXI_OUT#22, WHEELS_OFF#23, SCHEDULED_TIME#24, ELAPSED_TIME#25, AIR_TIME#26, DISTANCE#27, WHEELS_ON#28, TAXI_IN#29, SCHEDULED_ARRIVAL#30, ARRIVAL_TIME#31, ARRIVAL_DELAY#32, DIVERTED#33, CANCELLED#34]\\n               +- Relation[YEAR#10,MONTH#11,DAY#12,DAY_OF_WEEK#13,AIRLINE#14,FLIGHT_NUMBER#15,TAIL_NUMBER#16,ORIGIN_AIRPORT#17,DESTINATION_AIRPORT#18,SCHEDULED_DEPARTURE#19,DEPARTURE_TIME#20,DEPARTURE_DELAY#21,TAXI_OUT#22,WHEELS_OFF#23,SCHEDULED_TIME#24,ELAPSED_TIME#25,AIR_TIME#26,DISTANCE#27,WHEELS_ON#28,TAXI_IN#29,SCHEDULED_ARRIVAL#30,ARRIVAL_TIME#31,ARRIVAL_DELAY#32,DIVERTED#33,... 7 more fields] csv\\n\"",
     "output_type": "error",
     "traceback": [
      "\u001b[0;31m---------------------------------------------------------------------------\u001b[0m",
      "\u001b[0;31mPy4JJavaError\u001b[0m                             Traceback (most recent call last)",
      "\u001b[0;32m/usr/local/spark/python/pyspark/sql/utils.py\u001b[0m in \u001b[0;36mdeco\u001b[0;34m(*a, **kw)\u001b[0m\n\u001b[1;32m     62\u001b[0m         \u001b[0;32mtry\u001b[0m\u001b[0;34m:\u001b[0m\u001b[0;34m\u001b[0m\u001b[0m\n\u001b[0;32m---> 63\u001b[0;31m             \u001b[0;32mreturn\u001b[0m \u001b[0mf\u001b[0m\u001b[0;34m(\u001b[0m\u001b[0;34m*\u001b[0m\u001b[0ma\u001b[0m\u001b[0;34m,\u001b[0m \u001b[0;34m**\u001b[0m\u001b[0mkw\u001b[0m\u001b[0;34m)\u001b[0m\u001b[0;34m\u001b[0m\u001b[0m\n\u001b[0m\u001b[1;32m     64\u001b[0m         \u001b[0;32mexcept\u001b[0m \u001b[0mpy4j\u001b[0m\u001b[0;34m.\u001b[0m\u001b[0mprotocol\u001b[0m\u001b[0;34m.\u001b[0m\u001b[0mPy4JJavaError\u001b[0m \u001b[0;32mas\u001b[0m \u001b[0me\u001b[0m\u001b[0;34m:\u001b[0m\u001b[0;34m\u001b[0m\u001b[0m\n",
      "\u001b[0;32m/usr/local/spark/python/lib/py4j-0.10.7-src.zip/py4j/protocol.py\u001b[0m in \u001b[0;36mget_return_value\u001b[0;34m(answer, gateway_client, target_id, name)\u001b[0m\n\u001b[1;32m    327\u001b[0m                     \u001b[0;34m\"An error occurred while calling {0}{1}{2}.\\n\"\u001b[0m\u001b[0;34m.\u001b[0m\u001b[0;34m\u001b[0m\u001b[0m\n\u001b[0;32m--> 328\u001b[0;31m                     format(target_id, \".\", name), value)\n\u001b[0m\u001b[1;32m    329\u001b[0m             \u001b[0;32melse\u001b[0m\u001b[0;34m:\u001b[0m\u001b[0;34m\u001b[0m\u001b[0m\n",
      "\u001b[0;31mPy4JJavaError\u001b[0m: An error occurred while calling o297.select.\n: org.apache.spark.sql.AnalysisException: cannot resolve '`FLIGHT_NUMBER`' given input columns: [SCHEDULED_DEPARTURE, SCHEDULED_ARRIVAL, DEPARTURE_TIME, DEPARTURE_DELAY, TAXI_IN, DISTANCE, ARRIVAL_DELAY, ARRIVAL_TIME, TAXI_OUT, SCHEDULED_TIME, ELAPSED_TIME, WHEELS_ON, AIR_TIME, WHEELS_OFF];;\n'Project ['FLIGHT_NUMBER, ((cast(SCHEDULED_DEPARTURE#19 as double) < -592.5) || (cast(SCHEDULED_DEPARTURE#19 as double) > 3267.5)) AS SCHEDULED_DEPARTURE_outlier#1634, ((cast(DEPARTURE_TIME#20 as double) < 35.5) || (cast(DEPARTURE_TIME#20 as double) > 2751.5)) AS DEPARTURE_TIME_outlier#1635, ((cast(DEPARTURE_DELAY#21 as double) < -25.0) || (cast(DEPARTURE_DELAY#21 as double) > 31.0)) AS DEPARTURE_DELAY_outlier#1636, ((cast(TAXI_OUT#22 as double) < -5.5) || (cast(TAXI_OUT#22 as double) > 38.5)) AS TAXI_OUT_outlier#1637, ((cast(WHEELS_OFF#23 as double) < -78.5) || (cast(WHEELS_OFF#23 as double) > 2845.5)) AS WHEELS_OFF_outlier#1638, ((cast(SCHEDULED_TIME#24 as double) < -15.0) || (cast(SCHEDULED_TIME#24 as double) > 281.0)) AS SCHEDULED_TIME_outlier#1639, ((cast(ELAPSED_TIME#25 as double) < -57.0) || (cast(ELAPSED_TIME#25 as double) > 319.0)) AS ELAPSED_TIME_outlier#1640, ((cast(AIR_TIME#26 as double) < -56.0) || (cast(AIR_TIME#26 as double) > 280.0)) AS AIR_TIME_outlier#1641, ((cast(DISTANCE#27 as double) < -650.5) || (cast(DISTANCE#27 as double) > 2281.5)) AS DISTANCE_outlier#1642, ((cast(WHEELS_ON#28 as double) < -201.0) || (cast(WHEELS_ON#28 as double) > 3327.0)) AS WHEELS_ON_outlier#1643, ((cast(TAXI_IN#29 as double) < -1.0) || (cast(TAXI_IN#29 as double) > 15.0)) AS TAXI_IN_outlier#1644, ((cast(SCHEDULED_ARRIVAL#30 as double) < 371.5) || (cast(SCHEDULED_ARRIVAL#30 as double) > 2887.5)) AS SCHEDULED_ARRIVAL_outlier#1645, ((cast(ARRIVAL_TIME#31 as double) < -201.0) || (cast(ARRIVAL_TIME#31 as double) > 3335.0)) AS ARRIVAL_TIME_outlier#1646, ((cast(ARRIVAL_DELAY#32 as double) < -42.0) || (cast(ARRIVAL_DELAY#32 as double) > 38.0)) AS ARRIVAL_DELAY_outlier#1647]\n+- AnalysisBarrier\n      +- Project [SCHEDULED_DEPARTURE#19, DEPARTURE_TIME#20, DEPARTURE_DELAY#21, TAXI_OUT#22, WHEELS_OFF#23, SCHEDULED_TIME#24, ELAPSED_TIME#25, AIR_TIME#26, DISTANCE#27, WHEELS_ON#28, TAXI_IN#29, SCHEDULED_ARRIVAL#30, ARRIVAL_TIME#31, ARRIVAL_DELAY#32]\n         +- Filter AtLeastNNulls(n, YEAR#10,MONTH#11,DAY#12,DAY_OF_WEEK#13,AIRLINE#14,FLIGHT_NUMBER#15,TAIL_NUMBER#16,ORIGIN_AIRPORT#17,DESTINATION_AIRPORT#18,SCHEDULED_DEPARTURE#19,DEPARTURE_TIME#20,DEPARTURE_DELAY#21,TAXI_OUT#22,WHEELS_OFF#23,SCHEDULED_TIME#24,ELAPSED_TIME#25,AIR_TIME#26,DISTANCE#27,WHEELS_ON#28,TAXI_IN#29,SCHEDULED_ARRIVAL#30,ARRIVAL_TIME#31,ARRIVAL_DELAY#32,DIVERTED#33,CANCELLED#34)\n            +- Project [YEAR#10, MONTH#11, DAY#12, DAY_OF_WEEK#13, AIRLINE#14, FLIGHT_NUMBER#15, TAIL_NUMBER#16, ORIGIN_AIRPORT#17, DESTINATION_AIRPORT#18, SCHEDULED_DEPARTURE#19, DEPARTURE_TIME#20, DEPARTURE_DELAY#21, TAXI_OUT#22, WHEELS_OFF#23, SCHEDULED_TIME#24, ELAPSED_TIME#25, AIR_TIME#26, DISTANCE#27, WHEELS_ON#28, TAXI_IN#29, SCHEDULED_ARRIVAL#30, ARRIVAL_TIME#31, ARRIVAL_DELAY#32, DIVERTED#33, CANCELLED#34]\n               +- Relation[YEAR#10,MONTH#11,DAY#12,DAY_OF_WEEK#13,AIRLINE#14,FLIGHT_NUMBER#15,TAIL_NUMBER#16,ORIGIN_AIRPORT#17,DESTINATION_AIRPORT#18,SCHEDULED_DEPARTURE#19,DEPARTURE_TIME#20,DEPARTURE_DELAY#21,TAXI_OUT#22,WHEELS_OFF#23,SCHEDULED_TIME#24,ELAPSED_TIME#25,AIR_TIME#26,DISTANCE#27,WHEELS_ON#28,TAXI_IN#29,SCHEDULED_ARRIVAL#30,ARRIVAL_TIME#31,ARRIVAL_DELAY#32,DIVERTED#33,... 7 more fields] csv\n\n\tat org.apache.spark.sql.catalyst.analysis.package$AnalysisErrorAt.failAnalysis(package.scala:42)\n\tat org.apache.spark.sql.catalyst.analysis.CheckAnalysis$$anonfun$checkAnalysis$1$$anonfun$apply$2.applyOrElse(CheckAnalysis.scala:88)\n\tat org.apache.spark.sql.catalyst.analysis.CheckAnalysis$$anonfun$checkAnalysis$1$$anonfun$apply$2.applyOrElse(CheckAnalysis.scala:85)\n\tat org.apache.spark.sql.catalyst.trees.TreeNode$$anonfun$transformUp$1.apply(TreeNode.scala:289)\n\tat org.apache.spark.sql.catalyst.trees.TreeNode$$anonfun$transformUp$1.apply(TreeNode.scala:289)\n\tat org.apache.spark.sql.catalyst.trees.CurrentOrigin$.withOrigin(TreeNode.scala:70)\n\tat org.apache.spark.sql.catalyst.trees.TreeNode.transformUp(TreeNode.scala:288)\n\tat org.apache.spark.sql.catalyst.plans.QueryPlan$$anonfun$transformExpressionsUp$1.apply(QueryPlan.scala:95)\n\tat org.apache.spark.sql.catalyst.plans.QueryPlan$$anonfun$transformExpressionsUp$1.apply(QueryPlan.scala:95)\n\tat org.apache.spark.sql.catalyst.plans.QueryPlan$$anonfun$1.apply(QueryPlan.scala:107)\n\tat org.apache.spark.sql.catalyst.plans.QueryPlan$$anonfun$1.apply(QueryPlan.scala:107)\n\tat org.apache.spark.sql.catalyst.trees.CurrentOrigin$.withOrigin(TreeNode.scala:70)\n\tat org.apache.spark.sql.catalyst.plans.QueryPlan.transformExpression$1(QueryPlan.scala:106)\n\tat org.apache.spark.sql.catalyst.plans.QueryPlan.org$apache$spark$sql$catalyst$plans$QueryPlan$$recursiveTransform$1(QueryPlan.scala:118)\n\tat org.apache.spark.sql.catalyst.plans.QueryPlan$$anonfun$org$apache$spark$sql$catalyst$plans$QueryPlan$$recursiveTransform$1$1.apply(QueryPlan.scala:122)\n\tat scala.collection.TraversableLike$$anonfun$map$1.apply(TraversableLike.scala:234)\n\tat scala.collection.TraversableLike$$anonfun$map$1.apply(TraversableLike.scala:234)\n\tat scala.collection.mutable.ResizableArray$class.foreach(ResizableArray.scala:59)\n\tat scala.collection.mutable.ArrayBuffer.foreach(ArrayBuffer.scala:48)\n\tat scala.collection.TraversableLike$class.map(TraversableLike.scala:234)\n\tat scala.collection.AbstractTraversable.map(Traversable.scala:104)\n\tat org.apache.spark.sql.catalyst.plans.QueryPlan.org$apache$spark$sql$catalyst$plans$QueryPlan$$recursiveTransform$1(QueryPlan.scala:122)\n\tat org.apache.spark.sql.catalyst.plans.QueryPlan$$anonfun$2.apply(QueryPlan.scala:127)\n\tat org.apache.spark.sql.catalyst.trees.TreeNode.mapProductIterator(TreeNode.scala:187)\n\tat org.apache.spark.sql.catalyst.plans.QueryPlan.mapExpressions(QueryPlan.scala:127)\n\tat org.apache.spark.sql.catalyst.plans.QueryPlan.transformExpressionsUp(QueryPlan.scala:95)\n\tat org.apache.spark.sql.catalyst.analysis.CheckAnalysis$$anonfun$checkAnalysis$1.apply(CheckAnalysis.scala:85)\n\tat org.apache.spark.sql.catalyst.analysis.CheckAnalysis$$anonfun$checkAnalysis$1.apply(CheckAnalysis.scala:80)\n\tat org.apache.spark.sql.catalyst.trees.TreeNode.foreachUp(TreeNode.scala:127)\n\tat org.apache.spark.sql.catalyst.analysis.CheckAnalysis$class.checkAnalysis(CheckAnalysis.scala:80)\n\tat org.apache.spark.sql.catalyst.analysis.Analyzer.checkAnalysis(Analyzer.scala:92)\n\tat org.apache.spark.sql.catalyst.analysis.Analyzer.executeAndCheck(Analyzer.scala:105)\n\tat org.apache.spark.sql.execution.QueryExecution.analyzed$lzycompute(QueryExecution.scala:57)\n\tat org.apache.spark.sql.execution.QueryExecution.analyzed(QueryExecution.scala:55)\n\tat org.apache.spark.sql.execution.QueryExecution.assertAnalyzed(QueryExecution.scala:47)\n\tat org.apache.spark.sql.Dataset$.ofRows(Dataset.scala:74)\n\tat org.apache.spark.sql.Dataset.org$apache$spark$sql$Dataset$$withPlan(Dataset.scala:3296)\n\tat org.apache.spark.sql.Dataset.select(Dataset.scala:1307)\n\tat sun.reflect.NativeMethodAccessorImpl.invoke0(Native Method)\n\tat sun.reflect.NativeMethodAccessorImpl.invoke(NativeMethodAccessorImpl.java:62)\n\tat sun.reflect.DelegatingMethodAccessorImpl.invoke(DelegatingMethodAccessorImpl.java:43)\n\tat java.lang.reflect.Method.invoke(Method.java:498)\n\tat py4j.reflection.MethodInvoker.invoke(MethodInvoker.java:244)\n\tat py4j.reflection.ReflectionEngine.invoke(ReflectionEngine.java:357)\n\tat py4j.Gateway.invoke(Gateway.java:282)\n\tat py4j.commands.AbstractCommand.invokeMethod(AbstractCommand.java:132)\n\tat py4j.commands.CallCommand.execute(CallCommand.java:79)\n\tat py4j.GatewayConnection.run(GatewayConnection.java:238)\n\tat java.lang.Thread.run(Thread.java:748)\n",
      "\nDuring handling of the above exception, another exception occurred:\n",
      "\u001b[0;31mAnalysisException\u001b[0m                         Traceback (most recent call last)",
      "\u001b[0;32m<ipython-input-21-0dc4fb7ee926>\u001b[0m in \u001b[0;36m<module>\u001b[0;34m\u001b[0m\n\u001b[1;32m      4\u001b[0m  (\n\u001b[1;32m      5\u001b[0m  (df_for_outlier_calc[c] < bounds[c][0]) | (df_for_outlier_calc[c] > bounds[c][1]))\n\u001b[0;32m----> 6\u001b[0;31m     \u001b[0;34m.\u001b[0m\u001b[0malias\u001b[0m\u001b[0;34m(\u001b[0m\u001b[0mc\u001b[0m \u001b[0;34m+\u001b[0m \u001b[0;34m'_outlier'\u001b[0m\u001b[0;34m)\u001b[0m \u001b[0;32mfor\u001b[0m \u001b[0mc\u001b[0m \u001b[0;32min\u001b[0m \u001b[0mcols\u001b[0m\u001b[0;34m\u001b[0m\u001b[0m\n\u001b[0m\u001b[1;32m      7\u001b[0m ])\n",
      "\u001b[0;32m/usr/local/spark/python/pyspark/sql/dataframe.py\u001b[0m in \u001b[0;36mselect\u001b[0;34m(self, *cols)\u001b[0m\n\u001b[1;32m   1200\u001b[0m         \u001b[0;34m[\u001b[0m\u001b[0mRow\u001b[0m\u001b[0;34m(\u001b[0m\u001b[0mname\u001b[0m\u001b[0;34m=\u001b[0m\u001b[0;34mu'Alice'\u001b[0m\u001b[0;34m,\u001b[0m \u001b[0mage\u001b[0m\u001b[0;34m=\u001b[0m\u001b[0;36m12\u001b[0m\u001b[0;34m)\u001b[0m\u001b[0;34m,\u001b[0m \u001b[0mRow\u001b[0m\u001b[0;34m(\u001b[0m\u001b[0mname\u001b[0m\u001b[0;34m=\u001b[0m\u001b[0;34mu'Bob'\u001b[0m\u001b[0;34m,\u001b[0m \u001b[0mage\u001b[0m\u001b[0;34m=\u001b[0m\u001b[0;36m15\u001b[0m\u001b[0;34m)\u001b[0m\u001b[0;34m]\u001b[0m\u001b[0;34m\u001b[0m\u001b[0m\n\u001b[1;32m   1201\u001b[0m         \"\"\"\n\u001b[0;32m-> 1202\u001b[0;31m         \u001b[0mjdf\u001b[0m \u001b[0;34m=\u001b[0m \u001b[0mself\u001b[0m\u001b[0;34m.\u001b[0m\u001b[0m_jdf\u001b[0m\u001b[0;34m.\u001b[0m\u001b[0mselect\u001b[0m\u001b[0;34m(\u001b[0m\u001b[0mself\u001b[0m\u001b[0;34m.\u001b[0m\u001b[0m_jcols\u001b[0m\u001b[0;34m(\u001b[0m\u001b[0;34m*\u001b[0m\u001b[0mcols\u001b[0m\u001b[0;34m)\u001b[0m\u001b[0;34m)\u001b[0m\u001b[0;34m\u001b[0m\u001b[0m\n\u001b[0m\u001b[1;32m   1203\u001b[0m         \u001b[0;32mreturn\u001b[0m \u001b[0mDataFrame\u001b[0m\u001b[0;34m(\u001b[0m\u001b[0mjdf\u001b[0m\u001b[0;34m,\u001b[0m \u001b[0mself\u001b[0m\u001b[0;34m.\u001b[0m\u001b[0msql_ctx\u001b[0m\u001b[0;34m)\u001b[0m\u001b[0;34m\u001b[0m\u001b[0m\n\u001b[1;32m   1204\u001b[0m \u001b[0;34m\u001b[0m\u001b[0m\n",
      "\u001b[0;32m/usr/local/spark/python/lib/py4j-0.10.7-src.zip/py4j/java_gateway.py\u001b[0m in \u001b[0;36m__call__\u001b[0;34m(self, *args)\u001b[0m\n\u001b[1;32m   1255\u001b[0m         \u001b[0manswer\u001b[0m \u001b[0;34m=\u001b[0m \u001b[0mself\u001b[0m\u001b[0;34m.\u001b[0m\u001b[0mgateway_client\u001b[0m\u001b[0;34m.\u001b[0m\u001b[0msend_command\u001b[0m\u001b[0;34m(\u001b[0m\u001b[0mcommand\u001b[0m\u001b[0;34m)\u001b[0m\u001b[0;34m\u001b[0m\u001b[0m\n\u001b[1;32m   1256\u001b[0m         return_value = get_return_value(\n\u001b[0;32m-> 1257\u001b[0;31m             answer, self.gateway_client, self.target_id, self.name)\n\u001b[0m\u001b[1;32m   1258\u001b[0m \u001b[0;34m\u001b[0m\u001b[0m\n\u001b[1;32m   1259\u001b[0m         \u001b[0;32mfor\u001b[0m \u001b[0mtemp_arg\u001b[0m \u001b[0;32min\u001b[0m \u001b[0mtemp_args\u001b[0m\u001b[0;34m:\u001b[0m\u001b[0;34m\u001b[0m\u001b[0m\n",
      "\u001b[0;32m/usr/local/spark/python/pyspark/sql/utils.py\u001b[0m in \u001b[0;36mdeco\u001b[0;34m(*a, **kw)\u001b[0m\n\u001b[1;32m     67\u001b[0m                                              e.java_exception.getStackTrace()))\n\u001b[1;32m     68\u001b[0m             \u001b[0;32mif\u001b[0m \u001b[0ms\u001b[0m\u001b[0;34m.\u001b[0m\u001b[0mstartswith\u001b[0m\u001b[0;34m(\u001b[0m\u001b[0;34m'org.apache.spark.sql.AnalysisException: '\u001b[0m\u001b[0;34m)\u001b[0m\u001b[0;34m:\u001b[0m\u001b[0;34m\u001b[0m\u001b[0m\n\u001b[0;32m---> 69\u001b[0;31m                 \u001b[0;32mraise\u001b[0m \u001b[0mAnalysisException\u001b[0m\u001b[0;34m(\u001b[0m\u001b[0ms\u001b[0m\u001b[0;34m.\u001b[0m\u001b[0msplit\u001b[0m\u001b[0;34m(\u001b[0m\u001b[0;34m': '\u001b[0m\u001b[0;34m,\u001b[0m \u001b[0;36m1\u001b[0m\u001b[0;34m)\u001b[0m\u001b[0;34m[\u001b[0m\u001b[0;36m1\u001b[0m\u001b[0;34m]\u001b[0m\u001b[0;34m,\u001b[0m \u001b[0mstackTrace\u001b[0m\u001b[0;34m)\u001b[0m\u001b[0;34m\u001b[0m\u001b[0m\n\u001b[0m\u001b[1;32m     70\u001b[0m             \u001b[0;32mif\u001b[0m \u001b[0ms\u001b[0m\u001b[0;34m.\u001b[0m\u001b[0mstartswith\u001b[0m\u001b[0;34m(\u001b[0m\u001b[0;34m'org.apache.spark.sql.catalyst.analysis'\u001b[0m\u001b[0;34m)\u001b[0m\u001b[0;34m:\u001b[0m\u001b[0;34m\u001b[0m\u001b[0m\n\u001b[1;32m     71\u001b[0m                 \u001b[0;32mraise\u001b[0m \u001b[0mAnalysisException\u001b[0m\u001b[0;34m(\u001b[0m\u001b[0ms\u001b[0m\u001b[0;34m.\u001b[0m\u001b[0msplit\u001b[0m\u001b[0;34m(\u001b[0m\u001b[0;34m': '\u001b[0m\u001b[0;34m,\u001b[0m \u001b[0;36m1\u001b[0m\u001b[0;34m)\u001b[0m\u001b[0;34m[\u001b[0m\u001b[0;36m1\u001b[0m\u001b[0;34m]\u001b[0m\u001b[0;34m,\u001b[0m \u001b[0mstackTrace\u001b[0m\u001b[0;34m)\u001b[0m\u001b[0;34m\u001b[0m\u001b[0m\n",
      "\u001b[0;31mAnalysisException\u001b[0m: \"cannot resolve '`FLIGHT_NUMBER`' given input columns: [SCHEDULED_DEPARTURE, SCHEDULED_ARRIVAL, DEPARTURE_TIME, DEPARTURE_DELAY, TAXI_IN, DISTANCE, ARRIVAL_DELAY, ARRIVAL_TIME, TAXI_OUT, SCHEDULED_TIME, ELAPSED_TIME, WHEELS_ON, AIR_TIME, WHEELS_OFF];;\\n'Project ['FLIGHT_NUMBER, ((cast(SCHEDULED_DEPARTURE#19 as double) < -592.5) || (cast(SCHEDULED_DEPARTURE#19 as double) > 3267.5)) AS SCHEDULED_DEPARTURE_outlier#1634, ((cast(DEPARTURE_TIME#20 as double) < 35.5) || (cast(DEPARTURE_TIME#20 as double) > 2751.5)) AS DEPARTURE_TIME_outlier#1635, ((cast(DEPARTURE_DELAY#21 as double) < -25.0) || (cast(DEPARTURE_DELAY#21 as double) > 31.0)) AS DEPARTURE_DELAY_outlier#1636, ((cast(TAXI_OUT#22 as double) < -5.5) || (cast(TAXI_OUT#22 as double) > 38.5)) AS TAXI_OUT_outlier#1637, ((cast(WHEELS_OFF#23 as double) < -78.5) || (cast(WHEELS_OFF#23 as double) > 2845.5)) AS WHEELS_OFF_outlier#1638, ((cast(SCHEDULED_TIME#24 as double) < -15.0) || (cast(SCHEDULED_TIME#24 as double) > 281.0)) AS SCHEDULED_TIME_outlier#1639, ((cast(ELAPSED_TIME#25 as double) < -57.0) || (cast(ELAPSED_TIME#25 as double) > 319.0)) AS ELAPSED_TIME_outlier#1640, ((cast(AIR_TIME#26 as double) < -56.0) || (cast(AIR_TIME#26 as double) > 280.0)) AS AIR_TIME_outlier#1641, ((cast(DISTANCE#27 as double) < -650.5) || (cast(DISTANCE#27 as double) > 2281.5)) AS DISTANCE_outlier#1642, ((cast(WHEELS_ON#28 as double) < -201.0) || (cast(WHEELS_ON#28 as double) > 3327.0)) AS WHEELS_ON_outlier#1643, ((cast(TAXI_IN#29 as double) < -1.0) || (cast(TAXI_IN#29 as double) > 15.0)) AS TAXI_IN_outlier#1644, ((cast(SCHEDULED_ARRIVAL#30 as double) < 371.5) || (cast(SCHEDULED_ARRIVAL#30 as double) > 2887.5)) AS SCHEDULED_ARRIVAL_outlier#1645, ((cast(ARRIVAL_TIME#31 as double) < -201.0) || (cast(ARRIVAL_TIME#31 as double) > 3335.0)) AS ARRIVAL_TIME_outlier#1646, ((cast(ARRIVAL_DELAY#32 as double) < -42.0) || (cast(ARRIVAL_DELAY#32 as double) > 38.0)) AS ARRIVAL_DELAY_outlier#1647]\\n+- AnalysisBarrier\\n      +- Project [SCHEDULED_DEPARTURE#19, DEPARTURE_TIME#20, DEPARTURE_DELAY#21, TAXI_OUT#22, WHEELS_OFF#23, SCHEDULED_TIME#24, ELAPSED_TIME#25, AIR_TIME#26, DISTANCE#27, WHEELS_ON#28, TAXI_IN#29, SCHEDULED_ARRIVAL#30, ARRIVAL_TIME#31, ARRIVAL_DELAY#32]\\n         +- Filter AtLeastNNulls(n, YEAR#10,MONTH#11,DAY#12,DAY_OF_WEEK#13,AIRLINE#14,FLIGHT_NUMBER#15,TAIL_NUMBER#16,ORIGIN_AIRPORT#17,DESTINATION_AIRPORT#18,SCHEDULED_DEPARTURE#19,DEPARTURE_TIME#20,DEPARTURE_DELAY#21,TAXI_OUT#22,WHEELS_OFF#23,SCHEDULED_TIME#24,ELAPSED_TIME#25,AIR_TIME#26,DISTANCE#27,WHEELS_ON#28,TAXI_IN#29,SCHEDULED_ARRIVAL#30,ARRIVAL_TIME#31,ARRIVAL_DELAY#32,DIVERTED#33,CANCELLED#34)\\n            +- Project [YEAR#10, MONTH#11, DAY#12, DAY_OF_WEEK#13, AIRLINE#14, FLIGHT_NUMBER#15, TAIL_NUMBER#16, ORIGIN_AIRPORT#17, DESTINATION_AIRPORT#18, SCHEDULED_DEPARTURE#19, DEPARTURE_TIME#20, DEPARTURE_DELAY#21, TAXI_OUT#22, WHEELS_OFF#23, SCHEDULED_TIME#24, ELAPSED_TIME#25, AIR_TIME#26, DISTANCE#27, WHEELS_ON#28, TAXI_IN#29, SCHEDULED_ARRIVAL#30, ARRIVAL_TIME#31, ARRIVAL_DELAY#32, DIVERTED#33, CANCELLED#34]\\n               +- Relation[YEAR#10,MONTH#11,DAY#12,DAY_OF_WEEK#13,AIRLINE#14,FLIGHT_NUMBER#15,TAIL_NUMBER#16,ORIGIN_AIRPORT#17,DESTINATION_AIRPORT#18,SCHEDULED_DEPARTURE#19,DEPARTURE_TIME#20,DEPARTURE_DELAY#21,TAXI_OUT#22,WHEELS_OFF#23,SCHEDULED_TIME#24,ELAPSED_TIME#25,AIR_TIME#26,DISTANCE#27,WHEELS_ON#28,TAXI_IN#29,SCHEDULED_ARRIVAL#30,ARRIVAL_TIME#31,ARRIVAL_DELAY#32,DIVERTED#33,... 7 more fields] csv\\n\""
     ]
    }
   ],
   "source": [
    "# append outlier indicator to data table \\\n",
    "\n",
    "outliers = df_for_outlier_calc.select(*['TAIL_NUMBER'] + [\n",
    " (\n",
    " (df_for_outlier_calc[c] < bounds[c][0]) | (df_for_outlier_calc[c] > bounds[c][1]))\n",
    "    .alias(c + '_outlier') for c in cols\n",
    "])"
   ]
  },
  {
   "cell_type": "code",
   "execution_count": null,
   "metadata": {},
   "outputs": [],
   "source": [
    "outliers.show(4)"
   ]
  },
  {
   "cell_type": "code",
   "execution_count": null,
   "metadata": {},
   "outputs": [],
   "source": []
  }
 ],
 "metadata": {
  "kernelspec": {
   "display_name": "Python 3",
   "language": "python",
   "name": "python3"
  },
  "language_info": {
   "codemirror_mode": {
    "name": "ipython",
    "version": 3
   },
   "file_extension": ".py",
   "mimetype": "text/x-python",
   "name": "python",
   "nbconvert_exporter": "python",
   "pygments_lexer": "ipython3",
   "version": "3.6.8"
  }
 },
 "nbformat": 4,
 "nbformat_minor": 2
}
